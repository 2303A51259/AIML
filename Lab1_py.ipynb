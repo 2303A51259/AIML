{
  "nbformat": 4,
  "nbformat_minor": 0,
  "metadata": {
    "colab": {
      "provenance": [],
      "authorship_tag": "ABX9TyNnGVk33jRAGrcUWcZJIkcj",
      "include_colab_link": true
    },
    "kernelspec": {
      "name": "python3",
      "display_name": "Python 3"
    },
    "language_info": {
      "name": "python"
    }
  },
  "cells": [
    {
      "cell_type": "markdown",
      "metadata": {
        "id": "view-in-github",
        "colab_type": "text"
      },
      "source": [
        "<a href=\"https://colab.research.google.com/github/2303A51259/AIML/blob/main/Lab1_py.ipynb\" target=\"_parent\"><img src=\"https://colab.research.google.com/assets/colab-badge.svg\" alt=\"Open In Colab\"/></a>"
      ]
    },
    {
      "cell_type": "code",
      "execution_count": 9,
      "metadata": {
        "colab": {
          "base_uri": "https://localhost:8080/"
        },
        "id": "cr1P-pNUrCJX",
        "outputId": "6d37d22a-bcec-4026-aef3-91d3a028661d"
      },
      "outputs": [
        {
          "output_type": "stream",
          "name": "stdout",
          "text": [
            "Enter no.of elements in list:1\n",
            "Enter element:1\n",
            "[1]\n",
            "First element:  1\n",
            "Type: <class 'numpy.ndarray'>\n",
            "Type: <class 'list'>\n",
            "Multiplication: [ 2  8 18]\n",
            "Division: [0.5 0.5 0.5]\n",
            "Exponential: [  1  16 729]\n",
            "Addition of Two: [3 6 9]\n",
            "[0.84147098 0.90929743 0.14112001]\n",
            "[0.         0.69314718 1.09861229]\n",
            "[1.        2.        2.5849625]\n",
            "[ 2.71828183  7.3890561  20.08553692]\n"
          ]
        }
      ],
      "source": [
        "import numpy\n",
        "a=int(input(\"Enter no.of elements in list:\"))\n",
        "list=[]\n",
        "n=a\n",
        "while(n>0):\n",
        "  b=int(input(\"Enter element:\"))\n",
        "  list.append(b)\n",
        "  n=n-1\n",
        "print(list)\n",
        "arr=numpy.array([1,2,3])\n",
        "ar2=numpy.array([2,4,6])\n",
        "print(\"First element: \",arr[0])\n",
        "print(\"Type:\",type(arr))\n",
        "print(\"Type:\",type(list))\n",
        "print(\"Multiplication:\",arr*ar2)\n",
        "print(\"Division:\",arr/ar2)\n",
        "print(\"Exponential:\",arr**ar2)\n",
        "print(\"Addition of Two:\",arr+ar2)\n",
        "p=numpy.sin(arr)\n",
        "s=numpy.log(arr)\n",
        "q=numpy.log2(ar2)\n",
        "r=numpy.exp(arr)\n",
        "print(p)\n",
        "print(s)\n",
        "print(q)\n",
        "print(r)"
      ]
    }
  ]
}