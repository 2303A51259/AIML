{
  "nbformat": 4,
  "nbformat_minor": 0,
  "metadata": {
    "colab": {
      "provenance": [],
      "authorship_tag": "ABX9TyPoJ1qWj2/+sNxfA38Zy5p3",
      "include_colab_link": true
    },
    "kernelspec": {
      "name": "python3",
      "display_name": "Python 3"
    },
    "language_info": {
      "name": "python"
    }
  },
  "cells": [
    {
      "cell_type": "markdown",
      "metadata": {
        "id": "view-in-github",
        "colab_type": "text"
      },
      "source": [
        "<a href=\"https://colab.research.google.com/github/2303A51259/AIML/blob/main/LabExam(SET_A)Q7.ipynb\" target=\"_parent\"><img src=\"https://colab.research.google.com/assets/colab-badge.svg\" alt=\"Open In Colab\"/></a>"
      ]
    },
    {
      "cell_type": "code",
      "execution_count": 2,
      "metadata": {
        "id": "3J7PQ6r9VAfe"
      },
      "outputs": [],
      "source": [
        "import pandas as pd\n",
        "data = pd.read_csv(\"Occupancy_Estimation.csv\")"
      ]
    },
    {
      "cell_type": "code",
      "source": [
        "high_occupancy = data[data['Room_Occupancy_Count'] > data['Room_Occupancy_Count'].median()]\n",
        "max_light = high_occupancy[['S1_Light', 'S2_Light', 'S3_Light', 'S4_Light']].max().max()\n",
        "min_light = high_occupancy[['S1_Light', 'S2_Light', 'S3_Light', 'S4_Light']].min().min()\n",
        "max_sound = high_occupancy[['S1_Sound', 'S2_Sound', 'S3_Sound', 'S4_Sound']].max().max()\n",
        "min_sound = high_occupancy[['S1_Sound', 'S2_Sound', 'S3_Sound', 'S4_Sound']].min().min()"
      ],
      "metadata": {
        "id": "5_RIylabV0Bb"
      },
      "execution_count": 3,
      "outputs": []
    },
    {
      "cell_type": "code",
      "source": [
        "max_occupancy_row = data.loc[data['Room_Occupancy_Count'].idxmax()]\n",
        "max_occupancy_date_time = (max_occupancy_row['Date'], max_occupancy_row['Time'])\n"
      ],
      "metadata": {
        "id": "EhtKMAVUV0YW"
      },
      "execution_count": null,
      "outputs": []
    },
    {
      "cell_type": "code",
      "source": [
        "temperature_cols = ['S1_Temp', 'S2_Temp', 'S3_Temp', 'S4_Temp']\n",
        "suitable_temperature = high_occupancy[temperature_cols].mean().mean()"
      ],
      "metadata": {
        "id": "dUftqWUaV0rx"
      },
      "execution_count": 9,
      "outputs": []
    },
    {
      "cell_type": "code",
      "source": [
        "low_occupancy = data[data['Room_Occupancy_Count'] <= data['Room_Occupancy_Count'].median()]\n",
        "suitable_co2_range = (high_occupancy['S5_CO2'].min(), high_occupancy['S5_CO2'].max())\n",
        "unsuitable_co2_range = (low_occupancy['S5_CO2'].min(), low_occupancy['S5_CO2'].max())"
      ],
      "metadata": {
        "id": "uaumYuTAV7sn"
      },
      "execution_count": null,
      "outputs": []
    },
    {
      "cell_type": "code",
      "source": [
        "print(\"Max Sound:\", max_sound)\n",
        "print(\"Min Sound:\", min_sound)\n",
        "print(\"Max Light:\", max_light)\n",
        "print(\"Min Light:\", min_light)\n",
        "print(\"Date and Time when occupancy was Maximum:\", max_occupancy_date_time)\n",
        "print(\"Most suitable Temperature for High Occupancy:\", suitable_temperature)\n",
        "print(\"Suitable CO2 Range:\", suitable_co2_range)\n",
        "print(\"Unsuitable CO2 Range:\", unsuitable_co2_range)"
      ],
      "metadata": {
        "colab": {
          "base_uri": "https://localhost:8080/"
        },
        "id": "1sDwM2X0V6n4",
        "outputId": "bafd6277-f6de-4936-8f8e-992a46e06616"
      },
      "execution_count": 10,
      "outputs": [
        {
          "output_type": "stream",
          "name": "stdout",
          "text": [
            "Max Sound: 3.84\n",
            "Min Sound: 0.04\n",
            "Max Light: 280\n",
            "Min Light: 0\n",
            "Date and Time when occupancy was Maximum: ('2017/12/22', '12:30:16')\n",
            "Most suitable Temperature for High Occupancy: 26.009268805891637\n",
            "Suitable CO2 Range: (360, 1270)\n",
            "Unsuitable CO2 Range: (345, 1255)\n"
          ]
        }
      ]
    }
  ]
}